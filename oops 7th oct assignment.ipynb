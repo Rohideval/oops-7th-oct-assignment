{
 "cells": [
  {
   "cell_type": "markdown",
   "id": "444a10ac-95e1-457b-a965-454fdf2ebaaa",
   "metadata": {},
   "source": [
    "# Problem 1: Bank Account Create a class representing a bank account with attributes like account number, account holder name, and balance. Implement methods to deposit and withdraw money from the account."
   ]
  },
  {
   "cell_type": "code",
   "execution_count": 31,
   "id": "1e7ad637-ad63-4c87-8aaa-c55dab93aac5",
   "metadata": {},
   "outputs": [],
   "source": [
    "class Bank_account:\n",
    "    def __init__(self,account_number,name):\n",
    "        self.account_number=account_number\n",
    "        self.name=name\n",
    "        self.balance=0\n",
    "\n",
    "    def deposit(self):\n",
    "        amount=float(input(\"enter an amount\"))\n",
    "        self.balance+=amount\n",
    "        print(\"You have successfully deposited:\",amount, \"\\nyour available fund is :\",self.balance)\n",
    "\n",
    "    def withdraw(self):\n",
    "        amount=float(input(\"enter an amount you want to withdraw\"))\n",
    "        self.balance-=amount\n",
    "        print(\"You have successfully withdrawn:\", amount,\"your available fund is :\",self.balance)\n",
    "    def display_account(self):\n",
    "        print(\"Account number:\",self.account_number,\"\\nAccount holder name:\",self.name,\"\\nFund:\",self.balance)\n",
    "    "
   ]
  },
  {
   "cell_type": "code",
   "execution_count": 32,
   "id": "a91de4eb-9514-4fb2-abb1-637dec95939d",
   "metadata": {},
   "outputs": [],
   "source": [
    "rohit=Bank_account(123,\"Rohit Deval\")"
   ]
  },
  {
   "cell_type": "code",
   "execution_count": 33,
   "id": "3c67ba9e-5aec-4b15-aea3-c46138a961f7",
   "metadata": {},
   "outputs": [
    {
     "name": "stdout",
     "output_type": "stream",
     "text": [
      "Account number: 123 \n",
      "Account holder name: Rohit Deval \n",
      "Fund: 0\n"
     ]
    }
   ],
   "source": [
    "rohit.display_account()"
   ]
  },
  {
   "cell_type": "code",
   "execution_count": 35,
   "id": "665eb0d7-dc4a-4333-8eaf-19e3c1802089",
   "metadata": {},
   "outputs": [
    {
     "name": "stdin",
     "output_type": "stream",
     "text": [
      "enter an amount 500\n"
     ]
    },
    {
     "name": "stdout",
     "output_type": "stream",
     "text": [
      "You have successfully deposited: 500.0 \n",
      "your available fund is : 500.0\n"
     ]
    }
   ],
   "source": [
    "rohit.deposit()"
   ]
  },
  {
   "cell_type": "code",
   "execution_count": 36,
   "id": "d64492f0-c11d-470a-a856-be13eb0ae100",
   "metadata": {},
   "outputs": [
    {
     "name": "stdin",
     "output_type": "stream",
     "text": [
      "enter an amount you want to withdraw 200\n"
     ]
    },
    {
     "name": "stdout",
     "output_type": "stream",
     "text": [
      "You have successfully withdrawn: 200.0 your available fund is : 300.0\n"
     ]
    }
   ],
   "source": [
    "rohit.withdraw()"
   ]
  },
  {
   "cell_type": "code",
   "execution_count": 37,
   "id": "b655b6d2-91e2-4683-a2c3-b9a7320a8419",
   "metadata": {},
   "outputs": [
    {
     "name": "stdout",
     "output_type": "stream",
     "text": [
      "Account number: 123 \n",
      "Account holder name: Rohit Deval \n",
      "Fund: 300.0\n"
     ]
    }
   ],
   "source": [
    "rohit.display_account()"
   ]
  },
  {
   "cell_type": "markdown",
   "id": "496c03d9-7b20-478c-85e7-3df2c9e202ee",
   "metadata": {},
   "source": [
    "# Problem 2: Employee Management Create a class representing an employee with attributes like employee ID, name, and salary. Implement methods to calculate the yearly bonus and display employee details."
   ]
  },
  {
   "cell_type": "code",
   "execution_count": 59,
   "id": "e3c1b612-7206-4296-8006-197ce6c4c48e",
   "metadata": {},
   "outputs": [],
   "source": [
    "class employee:\n",
    "    def __init__(self,employeed_id,name,salary):\n",
    "        self.employeed_id=employeed_id\n",
    "        self.name=name\n",
    "        self.salary=salary\n",
    "        self.bonus=int(self.salary*5/100)\n",
    "\n",
    "    def display_details(self):\n",
    "        print(\"Employee id:\",self.employeed_id,\"\\nEmployee name:\",self.name,\"\\nSalary:\",self.salary,\"\\nYearly bonus:\",self.bonus)"
   ]
  },
  {
   "cell_type": "code",
   "execution_count": 60,
   "id": "d70e032b-97cf-4847-b0f0-9136bd69054c",
   "metadata": {},
   "outputs": [],
   "source": [
    "Karun=employee(1111,\"Karun Kumar\",200000)"
   ]
  },
  {
   "cell_type": "code",
   "execution_count": 61,
   "id": "64e2c33d-d076-4204-a7d7-95e3ed08c84d",
   "metadata": {},
   "outputs": [
    {
     "name": "stdout",
     "output_type": "stream",
     "text": [
      "Employee id: 1111 \n",
      "Employee name: Karun Kumar \n",
      "Salary: 200000 \n",
      "Yearly bonus: 10000\n"
     ]
    }
   ],
   "source": [
    "Karun.display_details()"
   ]
  },
  {
   "cell_type": "markdown",
   "id": "0a43972b-db37-4503-9c14-1f70ccf15de2",
   "metadata": {},
   "source": [
    "# Problem 3: Vehicle Rental Create a class representing a vehicle rental system. Implement methods to rent a vehicle, return a vehicle, and display available vehicles."
   ]
  },
  {
   "cell_type": "code",
   "execution_count": 121,
   "id": "63920d5e-e9c1-46a9-b9e2-6d7ab0d0dd95",
   "metadata": {},
   "outputs": [],
   "source": [
    "class vehicle_rent:\n",
    "    def __init__(self,user_name):\n",
    "        self.user_name=user_name\n",
    "        self.Cars=[\"INOVA\",\"TATA PUNCH\",\"NANO\",\"SUV\"]\n",
    "        self.rental_amount=0\n",
    "\n",
    "    def available_car(self):\n",
    "        return self.Cars\n",
    "\n",
    "    def rent_car(self):\n",
    "        print(\"The available car is :\",self.Cars)\n",
    "        pick_a_car=input(\"please enter a car name for rent:\").upper()\n",
    "        days=int(input(\"for how many days you want to rent a car:\"))\n",
    "        self.rental_amount=days*500\n",
    "        if pick_a_car in self.Cars:\n",
    "            print(f\"You have selected {pick_a_car} for {days} days and rental amount for {days} day is {self.rental_amount}/RS.\")\n",
    "        else:\n",
    "            print(\"entered car is not available\")\n",
    "        \n",
    "\n",
    "    def return_vehicle(self):\n",
    "        print(\"your bill amount is:\",self.rental_amount)\n",
    "        pay_amount=int(input(\"Please enter an amount of bill\"))\n",
    "        self.rental_amount-=pay_amount\n",
    "        if not self.rental_amount:\n",
    "            print(\"Thanks for the payment and we have received the vehicle\")\n",
    "        else:\n",
    "            print(\"Please clear your bill\")\n",
    "        "
   ]
  },
  {
   "cell_type": "code",
   "execution_count": 122,
   "id": "c0108aeb-b544-4254-9084-5214e3e2d831",
   "metadata": {},
   "outputs": [],
   "source": [
    "rohit=vehicle_rent(\"Rohit\")"
   ]
  },
  {
   "cell_type": "code",
   "execution_count": 123,
   "id": "cc6ff531-eadd-4eea-b556-b8947f36f29d",
   "metadata": {},
   "outputs": [
    {
     "data": {
      "text/plain": [
       "['INOVA', 'TATA PUNCH', 'NANO', 'SUV']"
      ]
     },
     "execution_count": 123,
     "metadata": {},
     "output_type": "execute_result"
    }
   ],
   "source": [
    "rohit.available_car()"
   ]
  },
  {
   "cell_type": "code",
   "execution_count": 115,
   "id": "762c7dab-334d-4fda-bbff-e2b586932b41",
   "metadata": {},
   "outputs": [
    {
     "name": "stdout",
     "output_type": "stream",
     "text": [
      "The available car is : ['INOVA', 'TATA PUNCH', 'NANO', 'SUV']\n"
     ]
    },
    {
     "name": "stdin",
     "output_type": "stream",
     "text": [
      "please enter a car name for rent: suv\n",
      "for how many days you want to rent a car: 3\n"
     ]
    },
    {
     "name": "stdout",
     "output_type": "stream",
     "text": [
      "You have selected SUV for 3 days and rental amount for 3 day is 1500/RS.\n"
     ]
    }
   ],
   "source": [
    "rohit.rent_car()"
   ]
  },
  {
   "cell_type": "code",
   "execution_count": 116,
   "id": "d169af3b-3a7c-49d1-96aa-f5af64372719",
   "metadata": {},
   "outputs": [
    {
     "name": "stdout",
     "output_type": "stream",
     "text": [
      "your bill amount is: 1500\n"
     ]
    },
    {
     "name": "stdin",
     "output_type": "stream",
     "text": [
      "Please enter an amount of bill 1500\n"
     ]
    },
    {
     "name": "stdout",
     "output_type": "stream",
     "text": [
      "Thanks for the payment and we have received the vehicle\n"
     ]
    }
   ],
   "source": [
    "rohit.return_vehicle()"
   ]
  },
  {
   "cell_type": "markdown",
   "id": "cc346eca-b982-4855-be50-12492a55f1c0",
   "metadata": {},
   "source": [
    "# Problem 4: Library Catalog Create classes representing a library and a book. Implement methods to add books to the library, borrow books, and display available books."
   ]
  },
  {
   "cell_type": "code",
   "execution_count": 1,
   "id": "6201b114-e263-467b-b4a6-d0f8ec684862",
   "metadata": {},
   "outputs": [],
   "source": [
    "class library:\n",
    "    def __init__(self,name):\n",
    "        self.student_name=name\n",
    "        self.available_books=[\"DSA\",\"PYTHON\",\"DATA SCIENCE\",\"DATA ANALYTICS\"]\n",
    "\n",
    "    def add_books(self):\n",
    "        add_books=(input(\"enter a book name to add in library\").upper()).split()\n",
    "        self.available_books+=add_books\n",
    "        print(f\"You have added the {add_books} book in a liabrary\")\n",
    "\n",
    "    def borrow_books(self):\n",
    "        borrow=input(\"Please enter a name of book you want to borrow\").upper()\n",
    "        print(borrow)\n",
    "        if borrow in self.available_books:\n",
    "            self.available_books.remove(borrow)\n",
    "            print(f\"you have borrowed the {borrow} book\")\n",
    "        else:\n",
    "            print(\"The mentioned book is not found\")"
   ]
  },
  {
   "cell_type": "code",
   "execution_count": 2,
   "id": "bde8ddad-c443-4dd4-836c-b342e4cb4063",
   "metadata": {},
   "outputs": [],
   "source": [
    "a=library(\"Rohit\")"
   ]
  },
  {
   "cell_type": "code",
   "execution_count": 3,
   "id": "312d28f6-7c27-4012-9ff9-b4b058b1c6ac",
   "metadata": {},
   "outputs": [
    {
     "data": {
      "text/plain": [
       "['DSA', 'PYTHON', 'DATA SCIENCE', 'DATA ANALYTICS']"
      ]
     },
     "execution_count": 3,
     "metadata": {},
     "output_type": "execute_result"
    }
   ],
   "source": [
    "a.available_books"
   ]
  },
  {
   "cell_type": "code",
   "execution_count": 4,
   "id": "5882029f-1c74-4d18-8315-3d8179a647f2",
   "metadata": {},
   "outputs": [
    {
     "name": "stdin",
     "output_type": "stream",
     "text": [
      "enter a book name to add in library Java\n"
     ]
    },
    {
     "name": "stdout",
     "output_type": "stream",
     "text": [
      "You have added the ['JAVA'] book in a liabrary\n"
     ]
    }
   ],
   "source": [
    "a.add_books()"
   ]
  },
  {
   "cell_type": "code",
   "execution_count": 5,
   "id": "816244b5-577b-447d-ade8-f362cf330fd2",
   "metadata": {},
   "outputs": [
    {
     "data": {
      "text/plain": [
       "['DSA', 'PYTHON', 'DATA SCIENCE', 'DATA ANALYTICS', 'JAVA']"
      ]
     },
     "execution_count": 5,
     "metadata": {},
     "output_type": "execute_result"
    }
   ],
   "source": [
    "a.available_books"
   ]
  },
  {
   "cell_type": "code",
   "execution_count": 6,
   "id": "b16e7f43-5d68-498f-8104-19b3f71b9317",
   "metadata": {},
   "outputs": [
    {
     "name": "stdin",
     "output_type": "stream",
     "text": [
      "Please enter a name of book you want to borrow python\n"
     ]
    },
    {
     "name": "stdout",
     "output_type": "stream",
     "text": [
      "PYTHON\n",
      "you have borrowed the PYTHON book\n"
     ]
    }
   ],
   "source": [
    "a.borrow_books()"
   ]
  },
  {
   "cell_type": "code",
   "execution_count": 8,
   "id": "ac77ed57-206c-4bc4-a228-6f762f2fa1b9",
   "metadata": {},
   "outputs": [
    {
     "data": {
      "text/plain": [
       "['DSA', 'DATA SCIENCE', 'DATA ANALYTICS', 'JAVA']"
      ]
     },
     "execution_count": 8,
     "metadata": {},
     "output_type": "execute_result"
    }
   ],
   "source": [
    "a.available_books"
   ]
  },
  {
   "cell_type": "markdown",
   "id": "e4f2d4e9-d76a-49be-8555-9a2fe9227c20",
   "metadata": {},
   "source": [
    "# Problem 5: Product Inventory Create classes representing a product and an inventory system. Implement methods to add products to the inventory, update product quantity, and display available products."
   ]
  },
  {
   "cell_type": "code",
   "execution_count": 46,
   "id": "6d6ca2e3-8158-41be-ba37-18dbc7823bb6",
   "metadata": {},
   "outputs": [],
   "source": [
    "class inventory:\n",
    "    def __init__(self):\n",
    "        self.product={\"biscuit\":50,\"Chips\":20,\"cold drinks\":30}\n",
    "\n",
    "    def add_products(self):\n",
    "        add_product=input(\"Enter product you want to add in inventory\")\n",
    "        product_qty=int(input(\"enter a quantity\"))\n",
    "        if add_product in self.product:\n",
    "            self.product[add_product]+=product_qty\n",
    "            return self.product\n",
    "        else:\n",
    "            self.product[add_product]=product_qty\n",
    "            return self.product\n",
    "\n",
    "    def available_product(self):\n",
    "        return self.product\n",
    "        \n",
    "        "
   ]
  },
  {
   "cell_type": "code",
   "execution_count": 49,
   "id": "25082fc8-29cb-4059-baa5-8fdae77f1f20",
   "metadata": {},
   "outputs": [],
   "source": [
    "kirana=inventory()"
   ]
  },
  {
   "cell_type": "code",
   "execution_count": 50,
   "id": "772d23e2-3435-4194-813d-8350a7b0f59f",
   "metadata": {},
   "outputs": [
    {
     "data": {
      "text/plain": [
       "{'biscuit': 50, 'Chips': 20, 'cold drinks': 30}"
      ]
     },
     "execution_count": 50,
     "metadata": {},
     "output_type": "execute_result"
    }
   ],
   "source": [
    "kirana.available_product()"
   ]
  },
  {
   "cell_type": "code",
   "execution_count": 51,
   "id": "b2ba3ac7-74d7-4cd2-9152-03171b26b52f",
   "metadata": {},
   "outputs": [
    {
     "name": "stdin",
     "output_type": "stream",
     "text": [
      "Enter product you want to add in inventory Water bottle\n",
      "enter a quantity 5\n"
     ]
    },
    {
     "data": {
      "text/plain": [
       "{'biscuit': 50, 'Chips': 20, 'cold drinks': 30, 'Water bottle': 5}"
      ]
     },
     "execution_count": 51,
     "metadata": {},
     "output_type": "execute_result"
    }
   ],
   "source": [
    "kirana.add_products()"
   ]
  },
  {
   "cell_type": "markdown",
   "id": "eeadde81-3762-4a26-b4fb-ed27d20c7139",
   "metadata": {},
   "source": [
    "# Problem 6: Shape Calculation Create a class representing a shape with attributes like length, width, and height. Implement methods to calculate the area and perimeter of the shape."
   ]
  },
  {
   "cell_type": "code",
   "execution_count": 63,
   "id": "5d789c59-5793-41ed-9256-df4c1133f901",
   "metadata": {},
   "outputs": [],
   "source": [
    "class calculate_shape:\n",
    "    def rectangle(self):\n",
    "        length=float(input(\"enter the length of the rectangle\"))\n",
    "        breadth=float(input(\"enter the breadth of the rectangle\"))\n",
    "        rectangle_area=length*breadth\n",
    "        print(\"The Area of rectangle is:\",rectangle_area)\n",
    "\n",
    "    def square(self):\n",
    "        side_length=float(input(\"enter the side length of the square\"))\n",
    "        square_area=side_length*side_length\n",
    "        print(\"The Area of square is:\",square_area)\n",
    "    def triangle(self):\n",
    "        height=float(input(\"enter the height of triangle\"))\n",
    "        breadth=float(input(\"enter the breadth of the triangle\"))\n",
    "        triangle_area=0.5*height*breadth\n",
    "        print(\"The Area of Triangle is:\",triangle_area)\n",
    "    def circle(self):\n",
    "        r=float(input(\"enter the radius of circle\"))\n",
    "        pi=3.14\n",
    "        circle_area=r*pi\n",
    "        print(\"The Area of circle is:\",circle_area)"
   ]
  },
  {
   "cell_type": "code",
   "execution_count": 65,
   "id": "1a633d09-53e3-429f-9cd0-fea6ab49f6a3",
   "metadata": {},
   "outputs": [],
   "source": [
    "a=calculate_shape()"
   ]
  },
  {
   "cell_type": "code",
   "execution_count": 66,
   "id": "ed96fb4e-218d-4892-9fda-21eb014ffa02",
   "metadata": {},
   "outputs": [
    {
     "name": "stdin",
     "output_type": "stream",
     "text": [
      "enter the radius of circle 4\n"
     ]
    },
    {
     "name": "stdout",
     "output_type": "stream",
     "text": [
      "The Area of circle is: 12.56\n"
     ]
    }
   ],
   "source": [
    "a.circle()"
   ]
  },
  {
   "cell_type": "code",
   "execution_count": 67,
   "id": "cbd7551e-1829-4b51-a7f2-2ddde4b806e0",
   "metadata": {},
   "outputs": [
    {
     "name": "stdin",
     "output_type": "stream",
     "text": [
      "enter the length of the rectangle 5\n",
      "enter the breadth of the rectangle 7\n"
     ]
    },
    {
     "name": "stdout",
     "output_type": "stream",
     "text": [
      "The Area of rectangle is: 35.0\n"
     ]
    }
   ],
   "source": [
    "\n",
    "a.rectangle()"
   ]
  },
  {
   "cell_type": "code",
   "execution_count": 68,
   "id": "7e43e659-09ed-43c8-9c63-26d9d384b1b7",
   "metadata": {},
   "outputs": [
    {
     "name": "stdin",
     "output_type": "stream",
     "text": [
      "enter the side length of the square 4\n"
     ]
    },
    {
     "name": "stdout",
     "output_type": "stream",
     "text": [
      "The Area of square is: 16.0\n"
     ]
    }
   ],
   "source": [
    "a.square()"
   ]
  },
  {
   "cell_type": "code",
   "execution_count": 69,
   "id": "df4aa197-ce99-4290-864c-7ed329289f30",
   "metadata": {},
   "outputs": [
    {
     "name": "stdin",
     "output_type": "stream",
     "text": [
      "enter the height of triangle 4\n",
      "enter the breadth of the triangle 5\n"
     ]
    },
    {
     "name": "stdout",
     "output_type": "stream",
     "text": [
      "The Area of Triangle is: 10.0\n"
     ]
    }
   ],
   "source": [
    "a.triangle()"
   ]
  },
  {
   "cell_type": "markdown",
   "id": "49d13074-b0a8-43e9-a755-d72fc0725c98",
   "metadata": {},
   "source": [
    "# Problem 7: Student Management Create a class representing a student with attributes like student ID, name, and grades. Implement methods to calculate the average grade and display student details."
   ]
  },
  {
   "cell_type": "code",
   "execution_count": 110,
   "id": "ab73d13e-e5d6-470e-8b5f-9a9959c38912",
   "metadata": {},
   "outputs": [],
   "source": [
    "class student_management:\n",
    "    def __init__(self,student_id,name,grade1,grade2):\n",
    "        self.student_id=student_id\n",
    "        self.student_name=name\n",
    "        self.sem_1_grade=grade1\n",
    "        self.sem_2_grade=grade2\n",
    "        self.Average_grade=(self.sem_1_grade+self.sem_2_grade)/2\n",
    "    def students_detail(self):\n",
    "        print(\"Student id:\",self.student_id,\"\\nStudent Name:\",self.student_name,\n",
    "              \"\\nSemester 1 grade:\",self.sem_1_grade,\"\\nSemester 2 grade:\",self.sem_2_grade)\n",
    "        print(f\"The average grade is {self.Average_grade}\")"
   ]
  },
  {
   "cell_type": "code",
   "execution_count": 111,
   "id": "44dd3601-fb0c-4d69-93cc-156f603bba80",
   "metadata": {},
   "outputs": [],
   "source": [
    "a=student_management(1,\"Arjun singh\",1,2)"
   ]
  },
  {
   "cell_type": "code",
   "execution_count": 112,
   "id": "7b50b011-31f3-4489-a034-cc4be742e78b",
   "metadata": {},
   "outputs": [
    {
     "name": "stdout",
     "output_type": "stream",
     "text": [
      "Student id: 1 \n",
      "Student Name: Arjun singh \n",
      "Semester 1 grade: 1 \n",
      "Semester 2 grade: 2\n",
      "The average grade is 1.5\n"
     ]
    }
   ],
   "source": [
    "a.students_detail()"
   ]
  },
  {
   "cell_type": "markdown",
   "id": "7e3d56ce-4f1d-4a97-8042-ed26840afcc6",
   "metadata": {},
   "source": [
    "# Problem 8: Email Management Create a class representing an email with attributes like sender, recipient, and subject. Implement methods to send an email and display email details."
   ]
  },
  {
   "cell_type": "code",
   "execution_count": 137,
   "id": "4c919197-0d8b-48d6-97de-6e4694f5cbd9",
   "metadata": {},
   "outputs": [],
   "source": [
    "class email:\n",
    "    def __init__(self,user_email):\n",
    "        self.sender=user_email\n",
    "        self.recipient=\"receiver_email\"\n",
    "        self.subject=\"title of an email\"\n",
    "        self.message=\"enter mail\"\n",
    "\n",
    "    def send_mail(self):\n",
    "        self.recipient=input(\"enter receiver's email id\")\n",
    "        self.subject=input(\"enter subject of email\")\n",
    "        self.message=input(\"enter your subject in detail\")\n",
    "        print(\"mail sent successfully\")\n",
    "\n",
    "    def email_details(self):\n",
    "        print(\"Sender email id:\",self.sender)\n",
    "        print(\"Reciever's email id:\",self.recipient)\n",
    "        print(\"Subject of the email:\",self.subject)\n",
    "        print(\"message:\",self.message)\n",
    "        "
   ]
  },
  {
   "cell_type": "code",
   "execution_count": 138,
   "id": "26fdc6df-c6d2-486f-adb3-ec155e12c696",
   "metadata": {},
   "outputs": [],
   "source": [
    "b=email(\"rohit@mail.com\")"
   ]
  },
  {
   "cell_type": "code",
   "execution_count": 139,
   "id": "e5319c87-9a3f-4f57-9705-9eeeee3d825c",
   "metadata": {},
   "outputs": [
    {
     "name": "stdin",
     "output_type": "stream",
     "text": [
      "enter receiver's email id pwskills@mail.com\n",
      "enter subject of email learn\n",
      "enter your subject in detail i want to learn data science\n"
     ]
    },
    {
     "name": "stdout",
     "output_type": "stream",
     "text": [
      "mail sent successfully\n"
     ]
    }
   ],
   "source": [
    "b.send_mail()"
   ]
  },
  {
   "cell_type": "code",
   "execution_count": 140,
   "id": "b0f1f65f-1cff-4064-b01b-6742f50be008",
   "metadata": {},
   "outputs": [
    {
     "name": "stdout",
     "output_type": "stream",
     "text": [
      "Sender email id: rohit@mail.com\n",
      "Reciever's email id: pwskills@mail.com\n",
      "Subject of the email: learn\n",
      "message: i want to learn data science\n"
     ]
    }
   ],
   "source": [
    "b.email_details()"
   ]
  },
  {
   "cell_type": "markdown",
   "id": "0351637a-4936-429f-8275-11728c8d4dc5",
   "metadata": {},
   "source": [
    "# Problem 9: Social Media Profile Create a class representing a social media profile with attributes like username and posts. Implement methods to add posts, display posts, and search for posts by keyword."
   ]
  },
  {
   "cell_type": "code",
   "execution_count": 287,
   "id": "7ef6c04d-75f2-4cdc-b13d-b035a2e09daa",
   "metadata": {},
   "outputs": [],
   "source": [
    "class instagram:\n",
    "    def __init__(self,username):\n",
    "        self.username=username\n",
    "        self.posts=[]\n",
    "\n",
    "    def add_posts(self):\n",
    "        post=input(\"enter somehting to post\").split()\n",
    "        self.posts.append(post)\n",
    "        print(\"You have post successfully\")\n",
    "        print(\"Post:\",\" \".join(post))\n",
    "\n",
    "    def Search_post(self):\n",
    "        search=input(\"enter a word to search post:\")\n",
    "        for i in self.posts:\n",
    "            for j in i:\n",
    "                if j==search:\n",
    "                    print(\" \".join(i) ,end='\\n')"
   ]
  },
  {
   "cell_type": "code",
   "execution_count": 288,
   "id": "16bd9a88-f9f2-4cc1-b446-622ffa88a836",
   "metadata": {},
   "outputs": [],
   "source": [
    "a=instagram(\"rohit\")"
   ]
  },
  {
   "cell_type": "code",
   "execution_count": 289,
   "id": "178b9346-1367-47f8-b272-2876d4290a92",
   "metadata": {},
   "outputs": [
    {
     "name": "stdin",
     "output_type": "stream",
     "text": [
      "enter somehting to post hi all\n"
     ]
    },
    {
     "name": "stdout",
     "output_type": "stream",
     "text": [
      "You have post successfully\n",
      "Post: hi all\n"
     ]
    }
   ],
   "source": [
    "a.add_posts()"
   ]
  },
  {
   "cell_type": "code",
   "execution_count": 290,
   "id": "2a5a51e1-6a06-4366-a1c6-a00ca8331079",
   "metadata": {},
   "outputs": [
    {
     "name": "stdin",
     "output_type": "stream",
     "text": [
      "enter somehting to post how are you all\n"
     ]
    },
    {
     "name": "stdout",
     "output_type": "stream",
     "text": [
      "You have post successfully\n",
      "Post: how are you all\n"
     ]
    }
   ],
   "source": [
    "a.add_posts()"
   ]
  },
  {
   "cell_type": "code",
   "execution_count": 291,
   "id": "74106139-c511-49c6-9283-fa7d69228f12",
   "metadata": {},
   "outputs": [
    {
     "name": "stdin",
     "output_type": "stream",
     "text": [
      "enter somehting to post whats your plan today\n"
     ]
    },
    {
     "name": "stdout",
     "output_type": "stream",
     "text": [
      "You have post successfully\n",
      "Post: whats your plan today\n"
     ]
    }
   ],
   "source": [
    "a.add_posts()"
   ]
  },
  {
   "cell_type": "code",
   "execution_count": 292,
   "id": "f1f3fadf-5807-4b21-8a37-0706bbd6b8b3",
   "metadata": {},
   "outputs": [
    {
     "data": {
      "text/plain": [
       "[['hi', 'all'],\n",
       " ['how', 'are', 'you', 'all'],\n",
       " ['whats', 'your', 'plan', 'today']]"
      ]
     },
     "execution_count": 292,
     "metadata": {},
     "output_type": "execute_result"
    }
   ],
   "source": [
    "a.posts"
   ]
  },
  {
   "cell_type": "code",
   "execution_count": 293,
   "id": "818f1abf-5d22-418f-8c8f-c622c6b053d6",
   "metadata": {},
   "outputs": [
    {
     "name": "stdin",
     "output_type": "stream",
     "text": [
      "enter a word to search post: all\n"
     ]
    },
    {
     "name": "stdout",
     "output_type": "stream",
     "text": [
      "hi all\n",
      "how are you all\n"
     ]
    }
   ],
   "source": [
    "a.Search_post()"
   ]
  },
  {
   "cell_type": "code",
   "execution_count": 294,
   "id": "acffdfae-3005-4f7d-9363-0db33bd5a99c",
   "metadata": {},
   "outputs": [
    {
     "name": "stdin",
     "output_type": "stream",
     "text": [
      "enter a word to search post: whats\n"
     ]
    },
    {
     "name": "stdout",
     "output_type": "stream",
     "text": [
      "whats your plan today\n"
     ]
    }
   ],
   "source": [
    "a.Search_post()"
   ]
  },
  {
   "cell_type": "markdown",
   "id": "e1d57e56-417a-41bb-95dd-7463ee33ce0d",
   "metadata": {},
   "source": [
    "# Problem 10: ToDo List Create a class representing a ToDo list with attributes like tasks and due dates. Implement methods to add tasks, mark tasks as completed, and display pending tasks.\n",
    "\n"
   ]
  },
  {
   "cell_type": "code",
   "execution_count": 306,
   "id": "1594a560-cf14-4f9d-abac-fff5e7f07f3c",
   "metadata": {},
   "outputs": [],
   "source": [
    "class Task:\n",
    "    def __init__(self,name,due_date):\n",
    "        self.name=name\n",
    "        self.due_date=due_date\n",
    "        self.completed=False\n",
    "\n",
    "    def mark_completed(self):\n",
    "        self.completed=True\n",
    "\n",
    "    def __str__(self):\n",
    "        status=\"completed\" if self.completed else \"pending\"\n",
    "        return f\"{self.name} (due:{self.due_date}) - {status}\"\n",
    "\n",
    "class to_do_list:\n",
    "    def __init__(self):\n",
    "        self.tasks=[]\n",
    "\n",
    "    def add_task(self,name,due_date):\n",
    "        task= Task(name,due_date)\n",
    "        self.tasks.append(task)\n",
    "\n",
    "    def mark_task_completed(self,task_name):\n",
    "        for task in self.tasks:\n",
    "            if task.name==task_name:\n",
    "                task.mark_completed()\n",
    "                break\n",
    "\n",
    "    def pending_task(self):\n",
    "        for task in self.tasks:\n",
    "            if not task.completed:\n",
    "                print(task)"
   ]
  },
  {
   "cell_type": "code",
   "execution_count": 307,
   "id": "2cf7c205-12e2-4cca-9725-b8a746fbf1a6",
   "metadata": {},
   "outputs": [],
   "source": [
    "work=to_do_list()"
   ]
  },
  {
   "cell_type": "code",
   "execution_count": 308,
   "id": "7dd3413c-9791-495b-81f0-7619d0a6efb4",
   "metadata": {},
   "outputs": [
    {
     "name": "stdout",
     "output_type": "stream",
     "text": [
      "meeting (due:2-9-24) - pending\n"
     ]
    }
   ],
   "source": [
    "work.add_task(\"dinner\",\"31-8-24\")\n",
    "work.add_task(\"meeting\",\"2-9-24\")\n",
    "work.mark_task_completed(\"dinner\")\n",
    "work.pending_task()"
   ]
  },
  {
   "cell_type": "code",
   "execution_count": null,
   "id": "c5e36eb3-8ac4-4937-97ad-64a08adec5df",
   "metadata": {},
   "outputs": [],
   "source": []
  },
  {
   "cell_type": "code",
   "execution_count": null,
   "id": "589993ff-2af8-4ed9-aa6f-c1f5400d6b92",
   "metadata": {},
   "outputs": [],
   "source": []
  },
  {
   "cell_type": "code",
   "execution_count": null,
   "id": "25c8a44e-b9cb-4ee7-bd91-498c8d03972a",
   "metadata": {},
   "outputs": [],
   "source": []
  },
  {
   "cell_type": "code",
   "execution_count": null,
   "id": "37a3c1f5-3aed-4850-9970-080094fd97a4",
   "metadata": {},
   "outputs": [],
   "source": []
  },
  {
   "cell_type": "code",
   "execution_count": null,
   "id": "cd66bc93-a07a-4b31-a01e-dd51f63ed80d",
   "metadata": {},
   "outputs": [],
   "source": []
  },
  {
   "cell_type": "code",
   "execution_count": null,
   "id": "44ea0120-4210-4097-9aa3-8427c63e8ccf",
   "metadata": {},
   "outputs": [],
   "source": []
  },
  {
   "cell_type": "code",
   "execution_count": null,
   "id": "5f9b7654-2a93-4679-a3a3-38c1b4905b58",
   "metadata": {},
   "outputs": [],
   "source": []
  },
  {
   "cell_type": "code",
   "execution_count": null,
   "id": "29dd7422-86ee-4dce-952d-187e20ba8453",
   "metadata": {},
   "outputs": [],
   "source": []
  },
  {
   "cell_type": "code",
   "execution_count": null,
   "id": "b80f4fcc-651b-4f25-adca-d782cef0052c",
   "metadata": {},
   "outputs": [],
   "source": []
  },
  {
   "cell_type": "code",
   "execution_count": null,
   "id": "59fdefa0-f367-49fe-82d5-98667642ca83",
   "metadata": {},
   "outputs": [],
   "source": []
  },
  {
   "cell_type": "code",
   "execution_count": null,
   "id": "c854f084-c557-46d6-ba86-95454b4352dd",
   "metadata": {},
   "outputs": [],
   "source": []
  },
  {
   "cell_type": "code",
   "execution_count": null,
   "id": "0ee5920f-b94d-4bdf-9e18-200391a78c98",
   "metadata": {},
   "outputs": [],
   "source": []
  },
  {
   "cell_type": "code",
   "execution_count": null,
   "id": "e9c94d6f-3cad-47e2-80e4-349edc244e7d",
   "metadata": {},
   "outputs": [],
   "source": []
  },
  {
   "cell_type": "code",
   "execution_count": null,
   "id": "1907b8a7-6541-4450-a4c0-9ccbc629b354",
   "metadata": {},
   "outputs": [],
   "source": []
  },
  {
   "cell_type": "code",
   "execution_count": null,
   "id": "1a10ab40-2a83-4da9-b71a-e91fe4f9bf23",
   "metadata": {},
   "outputs": [],
   "source": []
  },
  {
   "cell_type": "code",
   "execution_count": null,
   "id": "80d5b9ef-1c8a-4896-82d6-e9558104baca",
   "metadata": {},
   "outputs": [],
   "source": []
  },
  {
   "cell_type": "code",
   "execution_count": null,
   "id": "75041d37-9456-4d99-b7b1-7f17443281b5",
   "metadata": {},
   "outputs": [],
   "source": []
  },
  {
   "cell_type": "code",
   "execution_count": null,
   "id": "abe37365-dad6-4bdb-b3f4-1109094493a8",
   "metadata": {},
   "outputs": [],
   "source": []
  },
  {
   "cell_type": "code",
   "execution_count": null,
   "id": "fad611d8-6064-4bf5-86a6-c76176c7b5ab",
   "metadata": {},
   "outputs": [],
   "source": []
  },
  {
   "cell_type": "code",
   "execution_count": null,
   "id": "0f364171-df06-48b4-8b29-0c299aef4952",
   "metadata": {},
   "outputs": [],
   "source": []
  },
  {
   "cell_type": "code",
   "execution_count": null,
   "id": "c13b7843-16f8-49c3-8fab-5ddf5130d7de",
   "metadata": {},
   "outputs": [],
   "source": []
  },
  {
   "cell_type": "code",
   "execution_count": null,
   "id": "a1fc9bfd-cab7-45ad-a13a-b71784ca7518",
   "metadata": {},
   "outputs": [],
   "source": []
  },
  {
   "cell_type": "code",
   "execution_count": null,
   "id": "d0321964-05cb-4754-a7fa-cdd1d6c54fdf",
   "metadata": {},
   "outputs": [],
   "source": []
  },
  {
   "cell_type": "code",
   "execution_count": null,
   "id": "6f8c2c8b-38c7-43b8-8b45-feb28ae2d77c",
   "metadata": {},
   "outputs": [],
   "source": []
  },
  {
   "cell_type": "code",
   "execution_count": null,
   "id": "99559bf7-a331-47e7-a9c5-469cc24000f8",
   "metadata": {},
   "outputs": [],
   "source": []
  },
  {
   "cell_type": "code",
   "execution_count": null,
   "id": "c47ff05b-8754-41d3-8b1b-62002608f04a",
   "metadata": {},
   "outputs": [],
   "source": []
  },
  {
   "cell_type": "code",
   "execution_count": null,
   "id": "d7e29881-eed7-474c-8233-43ce80420202",
   "metadata": {},
   "outputs": [],
   "source": []
  },
  {
   "cell_type": "code",
   "execution_count": null,
   "id": "82b2b3b2-f7a9-4f23-93b0-28b6cb5730a2",
   "metadata": {},
   "outputs": [],
   "source": []
  }
 ],
 "metadata": {
  "kernelspec": {
   "display_name": "Python 3 (ipykernel)",
   "language": "python",
   "name": "python3"
  },
  "language_info": {
   "codemirror_mode": {
    "name": "ipython",
    "version": 3
   },
   "file_extension": ".py",
   "mimetype": "text/x-python",
   "name": "python",
   "nbconvert_exporter": "python",
   "pygments_lexer": "ipython3",
   "version": "3.12.3"
  }
 },
 "nbformat": 4,
 "nbformat_minor": 5
}
